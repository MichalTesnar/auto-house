{
 "cells": [
  {
   "cell_type": "code",
   "execution_count": 1,
   "metadata": {},
   "outputs": [],
   "source": [
    "from selenium import webdriver\n",
    "from selenium.webdriver.common.by import By\n",
    "from selenium.webdriver.common.keys import Keys\n",
    "import time\n",
    "import json\n",
    "from bs4 import BeautifulSoup\n",
    "from selenium.webdriver.chrome.options import Options\n",
    "import re"
   ]
  },
  {
   "cell_type": "code",
   "execution_count": 2,
   "metadata": {},
   "outputs": [],
   "source": [
    "driver = webdriver.Chrome()"
   ]
  },
  {
   "cell_type": "code",
   "execution_count": 3,
   "metadata": {},
   "outputs": [],
   "source": [
    "driver.get(\"https://flatfox.ch/en/accounts/login/?next=/en/search/\")"
   ]
  },
  {
   "cell_type": "code",
   "execution_count": 4,
   "metadata": {},
   "outputs": [],
   "source": [
    "TIME_DELAY_ON_LOAD = 0.5\n"
   ]
  },
  {
   "cell_type": "code",
   "execution_count": 6,
   "metadata": {},
   "outputs": [],
   "source": [
    "consent_button = driver.find_element(By.ID, \"onetrust-accept-btn-handler\")\n",
    "consent_button.click()"
   ]
  },
  {
   "cell_type": "code",
   "execution_count": 7,
   "metadata": {},
   "outputs": [],
   "source": [
    "from src.personal_profile import PersonalProfile\n",
    "profile = PersonalProfile(\"michal\")"
   ]
  },
  {
   "cell_type": "code",
   "execution_count": 8,
   "metadata": {},
   "outputs": [],
   "source": [
    "username_field = driver.find_element(By.ID, \"id_email\")\n",
    "username_field.send_keys(profile.flatfox_login)\n",
    "consent_button = driver.find_element(By.CLASS_NAME, \"css-1iioj0r\")\n",
    "consent_button.click()"
   ]
  },
  {
   "cell_type": "code",
   "execution_count": 9,
   "metadata": {},
   "outputs": [],
   "source": [
    "username_field = driver.find_element(By.ID, \"id_password\")\n",
    "username_field.send_keys(profile.flatfox_password)\n",
    "consent_button.click()"
   ]
  },
  {
   "cell_type": "code",
   "execution_count": 11,
   "metadata": {},
   "outputs": [],
   "source": [
    "from src.lib.email_client import EmailClient\n",
    "email_client = EmailClient(profile)"
   ]
  },
  {
   "cell_type": "code",
   "execution_count": 12,
   "metadata": {},
   "outputs": [
    {
     "name": "stderr",
     "output_type": "stream",
     "text": [
      "2025-04-05 20:16:27,236 - selenium.webdriver.remote.remote_connection - DEBUG - POST http://localhost:50393/session/03b7db7761d5b7fcdc8674770a9afb62/element {'using': 'css selector', 'value': '[id=\"f1\"]'}\n",
      "2025-04-05 20:16:27,250 - urllib3.connectionpool - DEBUG - http://localhost:50393 \"POST /session/03b7db7761d5b7fcdc8674770a9afb62/element HTTP/1.1\" 200 0\n",
      "2025-04-05 20:16:27,252 - selenium.webdriver.remote.remote_connection - DEBUG - Remote response: status=200 | data={\"value\":{\"element-6066-11e4-a52e-4f735466cecf\":\"f.2685DFEFB6BAC4D9BA6B30F9C11CFE71.d.4BA9D77086039F5EEE354634B760EA09.e.65\"}} | headers=HTTPHeaderDict({'Content-Length': '126', 'Content-Type': 'application/json; charset=utf-8', 'cache-control': 'no-cache'})\n",
      "2025-04-05 20:16:27,252 - selenium.webdriver.remote.remote_connection - DEBUG - Finished Request\n",
      "2025-04-05 20:16:27,253 - selenium.webdriver.remote.remote_connection - DEBUG - POST http://localhost:50393/session/03b7db7761d5b7fcdc8674770a9afb62/element/f.2685DFEFB6BAC4D9BA6B30F9C11CFE71.d.4BA9D77086039F5EEE354634B760EA09.e.65/value {'text': '872989', 'value': ['8', '7', '2', '9', '8', '9']}\n",
      "2025-04-05 20:16:27,288 - urllib3.connectionpool - DEBUG - http://localhost:50393 \"POST /session/03b7db7761d5b7fcdc8674770a9afb62/element/f.2685DFEFB6BAC4D9BA6B30F9C11CFE71.d.4BA9D77086039F5EEE354634B760EA09.e.65/value HTTP/1.1\" 200 0\n",
      "2025-04-05 20:16:27,289 - selenium.webdriver.remote.remote_connection - DEBUG - Remote response: status=200 | data={\"value\":null} | headers=HTTPHeaderDict({'Content-Length': '14', 'Content-Type': 'application/json; charset=utf-8', 'cache-control': 'no-cache'})\n",
      "2025-04-05 20:16:27,290 - selenium.webdriver.remote.remote_connection - DEBUG - Finished Request\n",
      "2025-04-05 20:16:27,290 - selenium.webdriver.remote.remote_connection - DEBUG - POST http://localhost:50393/session/03b7db7761d5b7fcdc8674770a9afb62/element/f.2685DFEFB6BAC4D9BA6B30F9C11CFE71.d.4BA9D77086039F5EEE354634B760EA09.e.52/click {}\n",
      "2025-04-05 20:16:27,342 - urllib3.connectionpool - DEBUG - http://localhost:50393 \"POST /session/03b7db7761d5b7fcdc8674770a9afb62/element/f.2685DFEFB6BAC4D9BA6B30F9C11CFE71.d.4BA9D77086039F5EEE354634B760EA09.e.52/click HTTP/1.1\" 200 0\n",
      "2025-04-05 20:16:27,343 - selenium.webdriver.remote.remote_connection - DEBUG - Remote response: status=200 | data={\"value\":null} | headers=HTTPHeaderDict({'Content-Length': '14', 'Content-Type': 'application/json; charset=utf-8', 'cache-control': 'no-cache'})\n",
      "2025-04-05 20:16:27,344 - selenium.webdriver.remote.remote_connection - DEBUG - Finished Request\n"
     ]
    }
   ],
   "source": [
    "code = email_client.retrieve_6digit_code()\n",
    "otp_field = driver.find_element(By.ID, \"f1\")\n",
    "otp_field.send_keys(code)\n",
    "consent_button.click()"
   ]
  },
  {
   "cell_type": "code",
   "execution_count": null,
   "metadata": {},
   "outputs": [
    {
     "name": "stderr",
     "output_type": "stream",
     "text": [
      "2025-04-05 20:32:41,068 - selenium.webdriver.remote.remote_connection - DEBUG - POST http://localhost:50393/session/03b7db7761d5b7fcdc8674770a9afb62/element {'using': 'css selector', 'value': '.mapboxgl-ctrl-geocoder--input'}\n",
      "2025-04-05 20:32:41,078 - urllib3.connectionpool - DEBUG - http://localhost:50393 \"POST /session/03b7db7761d5b7fcdc8674770a9afb62/element HTTP/1.1\" 200 0\n",
      "2025-04-05 20:32:41,079 - selenium.webdriver.remote.remote_connection - DEBUG - Remote response: status=200 | data={\"value\":{\"element-6066-11e4-a52e-4f735466cecf\":\"f.2685DFEFB6BAC4D9BA6B30F9C11CFE71.d.203DB6FA0F78C050FA737DBD74344CE7.e.15003\"}} | headers=HTTPHeaderDict({'Content-Length': '129', 'Content-Type': 'application/json; charset=utf-8', 'cache-control': 'no-cache'})\n",
      "2025-04-05 20:32:41,079 - selenium.webdriver.remote.remote_connection - DEBUG - Finished Request\n",
      "2025-04-05 20:32:41,080 - selenium.webdriver.remote.remote_connection - DEBUG - POST http://localhost:50393/session/03b7db7761d5b7fcdc8674770a9afb62/element/f.2685DFEFB6BAC4D9BA6B30F9C11CFE71.d.203DB6FA0F78C050FA737DBD74344CE7.e.15003/value {'text': 'Zurich', 'value': ['Z', 'u', 'r', 'i', 'c', 'h']}\n",
      "2025-04-05 20:32:41,130 - urllib3.connectionpool - DEBUG - http://localhost:50393 \"POST /session/03b7db7761d5b7fcdc8674770a9afb62/element/f.2685DFEFB6BAC4D9BA6B30F9C11CFE71.d.203DB6FA0F78C050FA737DBD74344CE7.e.15003/value HTTP/1.1\" 200 0\n",
      "2025-04-05 20:32:41,131 - selenium.webdriver.remote.remote_connection - DEBUG - Remote response: status=200 | data={\"value\":null} | headers=HTTPHeaderDict({'Content-Length': '14', 'Content-Type': 'application/json; charset=utf-8', 'cache-control': 'no-cache'})\n",
      "2025-04-05 20:32:41,132 - selenium.webdriver.remote.remote_connection - DEBUG - Finished Request\n"
     ]
    }
   ],
   "source": [
    "region_field = driver.find_element(By.CLASS_NAME, \"mapboxgl-ctrl-geocoder--input\")\n",
    "region_field.send_keys(profile.place)\n"
   ]
  },
  {
   "cell_type": "code",
   "execution_count": 46,
   "metadata": {},
   "outputs": [
    {
     "name": "stderr",
     "output_type": "stream",
     "text": [
      "2025-04-05 20:33:10,478 - selenium.webdriver.remote.remote_connection - DEBUG - POST http://localhost:50393/session/03b7db7761d5b7fcdc8674770a9afb62/element {'using': 'css selector', 'value': '.mapboxgl-ctrl-geocoder--suggestion-address'}\n",
      "2025-04-05 20:33:10,489 - urllib3.connectionpool - DEBUG - http://localhost:50393 \"POST /session/03b7db7761d5b7fcdc8674770a9afb62/element HTTP/1.1\" 200 0\n",
      "2025-04-05 20:33:10,490 - selenium.webdriver.remote.remote_connection - DEBUG - Remote response: status=200 | data={\"value\":{\"element-6066-11e4-a52e-4f735466cecf\":\"f.2685DFEFB6BAC4D9BA6B30F9C11CFE71.d.203DB6FA0F78C050FA737DBD74344CE7.e.18850\"}} | headers=HTTPHeaderDict({'Content-Length': '129', 'Content-Type': 'application/json; charset=utf-8', 'cache-control': 'no-cache'})\n",
      "2025-04-05 20:33:10,490 - selenium.webdriver.remote.remote_connection - DEBUG - Finished Request\n"
     ]
    }
   ],
   "source": [
    "suggestion_button = driver.find_element(By.CLASS_NAME, \"mapboxgl-ctrl-geocoder--suggestion-address\")"
   ]
  },
  {
   "cell_type": "code",
   "execution_count": 47,
   "metadata": {},
   "outputs": [
    {
     "name": "stderr",
     "output_type": "stream",
     "text": [
      "2025-04-05 20:33:17,685 - selenium.webdriver.remote.remote_connection - DEBUG - POST http://localhost:50393/session/03b7db7761d5b7fcdc8674770a9afb62/element/f.2685DFEFB6BAC4D9BA6B30F9C11CFE71.d.203DB6FA0F78C050FA737DBD74344CE7.e.18850/click {}\n",
      "2025-04-05 20:33:17,819 - urllib3.connectionpool - DEBUG - http://localhost:50393 \"POST /session/03b7db7761d5b7fcdc8674770a9afb62/element/f.2685DFEFB6BAC4D9BA6B30F9C11CFE71.d.203DB6FA0F78C050FA737DBD74344CE7.e.18850/click HTTP/1.1\" 200 0\n",
      "2025-04-05 20:33:17,821 - selenium.webdriver.remote.remote_connection - DEBUG - Remote response: status=200 | data={\"value\":null} | headers=HTTPHeaderDict({'Content-Length': '14', 'Content-Type': 'application/json; charset=utf-8', 'cache-control': 'no-cache'})\n",
      "2025-04-05 20:33:17,823 - selenium.webdriver.remote.remote_connection - DEBUG - Finished Request\n"
     ]
    }
   ],
   "source": [
    "suggestion_button.click()"
   ]
  },
  {
   "cell_type": "code",
   "execution_count": 48,
   "metadata": {},
   "outputs": [
    {
     "name": "stderr",
     "output_type": "stream",
     "text": [
      "2025-04-05 20:33:24,525 - selenium.webdriver.remote.remote_connection - DEBUG - POST http://localhost:50393/session/03b7db7761d5b7fcdc8674770a9afb62/element/f.2685DFEFB6BAC4D9BA6B30F9C11CFE71.d.203DB6FA0F78C050FA737DBD74344CE7.e.15003/value {'text': '\\ue006', 'value': ['\\ue006']}\n",
      "2025-04-05 20:33:24,598 - urllib3.connectionpool - DEBUG - http://localhost:50393 \"POST /session/03b7db7761d5b7fcdc8674770a9afb62/element/f.2685DFEFB6BAC4D9BA6B30F9C11CFE71.d.203DB6FA0F78C050FA737DBD74344CE7.e.15003/value HTTP/1.1\" 200 0\n",
      "2025-04-05 20:33:24,599 - selenium.webdriver.remote.remote_connection - DEBUG - Remote response: status=200 | data={\"value\":null} | headers=HTTPHeaderDict({'Content-Length': '14', 'Content-Type': 'application/json; charset=utf-8', 'cache-control': 'no-cache'})\n",
      "2025-04-05 20:33:24,600 - selenium.webdriver.remote.remote_connection - DEBUG - Finished Request\n"
     ]
    }
   ],
   "source": [
    "region_field.send_keys(Keys.RETURN)"
   ]
  },
  {
   "cell_type": "code",
   "execution_count": 44,
   "metadata": {},
   "outputs": [
    {
     "name": "stderr",
     "output_type": "stream",
     "text": [
      "2025-04-05 20:32:18,500 - selenium.webdriver.remote.remote_connection - DEBUG - POST http://localhost:50393/session/03b7db7761d5b7fcdc8674770a9afb62/element {'using': 'css selector', 'value': '.css-1mtdczm'}\n",
      "2025-04-05 20:32:18,607 - urllib3.connectionpool - DEBUG - http://localhost:50393 \"POST /session/03b7db7761d5b7fcdc8674770a9afb62/element HTTP/1.1\" 200 0\n",
      "2025-04-05 20:32:18,607 - selenium.webdriver.remote.remote_connection - DEBUG - Remote response: status=200 | data={\"value\":{\"element-6066-11e4-a52e-4f735466cecf\":\"f.2685DFEFB6BAC4D9BA6B30F9C11CFE71.d.203DB6FA0F78C050FA737DBD74344CE7.e.15147\"}} | headers=HTTPHeaderDict({'Content-Length': '129', 'Content-Type': 'application/json; charset=utf-8', 'cache-control': 'no-cache'})\n",
      "2025-04-05 20:32:18,608 - selenium.webdriver.remote.remote_connection - DEBUG - Finished Request\n"
     ]
    }
   ],
   "source": [
    "listing_type_button = driver.find_element(By.CLASS_NAME, \"css-1mtdczm\")\n"
   ]
  },
  {
   "cell_type": "code",
   "execution_count": 21,
   "metadata": {},
   "outputs": [
    {
     "name": "stderr",
     "output_type": "stream",
     "text": [
      "2025-04-05 20:22:39,147 - selenium.webdriver.remote.remote_connection - DEBUG - POST http://localhost:50393/session/03b7db7761d5b7fcdc8674770a9afb62/element/f.2685DFEFB6BAC4D9BA6B30F9C11CFE71.d.F207D589CD243890EBE7184899F04180.e.126/click {}\n",
      "2025-04-05 20:22:39,210 - urllib3.connectionpool - DEBUG - http://localhost:50393 \"POST /session/03b7db7761d5b7fcdc8674770a9afb62/element/f.2685DFEFB6BAC4D9BA6B30F9C11CFE71.d.F207D589CD243890EBE7184899F04180.e.126/click HTTP/1.1\" 200 0\n",
      "2025-04-05 20:22:39,211 - selenium.webdriver.remote.remote_connection - DEBUG - Remote response: status=200 | data={\"value\":null} | headers=HTTPHeaderDict({'Content-Length': '14', 'Content-Type': 'application/json; charset=utf-8', 'cache-control': 'no-cache'})\n",
      "2025-04-05 20:22:39,211 - selenium.webdriver.remote.remote_connection - DEBUG - Finished Request\n"
     ]
    }
   ],
   "source": [
    "listing_type_button.click()"
   ]
  },
  {
   "cell_type": "code",
   "execution_count": 25,
   "metadata": {},
   "outputs": [
    {
     "name": "stderr",
     "output_type": "stream",
     "text": [
      "2025-04-05 20:25:18,575 - selenium.webdriver.remote.remote_connection - DEBUG - POST http://localhost:50393/session/03b7db7761d5b7fcdc8674770a9afb62/element {'using': 'css selector', 'value': 'button[value=\"SHARED\"]'}\n",
      "2025-04-05 20:25:18,586 - urllib3.connectionpool - DEBUG - http://localhost:50393 \"POST /session/03b7db7761d5b7fcdc8674770a9afb62/element HTTP/1.1\" 200 0\n",
      "2025-04-05 20:25:18,587 - selenium.webdriver.remote.remote_connection - DEBUG - Remote response: status=200 | data={\"value\":{\"element-6066-11e4-a52e-4f735466cecf\":\"f.2685DFEFB6BAC4D9BA6B30F9C11CFE71.d.F207D589CD243890EBE7184899F04180.e.7624\"}} | headers=HTTPHeaderDict({'Content-Length': '128', 'Content-Type': 'application/json; charset=utf-8', 'cache-control': 'no-cache'})\n",
      "2025-04-05 20:25:18,588 - selenium.webdriver.remote.remote_connection - DEBUG - Finished Request\n",
      "2025-04-05 20:25:18,589 - selenium.webdriver.remote.remote_connection - DEBUG - POST http://localhost:50393/session/03b7db7761d5b7fcdc8674770a9afb62/element/f.2685DFEFB6BAC4D9BA6B30F9C11CFE71.d.F207D589CD243890EBE7184899F04180.e.7624/click {}\n",
      "2025-04-05 20:25:18,693 - urllib3.connectionpool - DEBUG - http://localhost:50393 \"POST /session/03b7db7761d5b7fcdc8674770a9afb62/element/f.2685DFEFB6BAC4D9BA6B30F9C11CFE71.d.F207D589CD243890EBE7184899F04180.e.7624/click HTTP/1.1\" 200 0\n",
      "2025-04-05 20:25:18,694 - selenium.webdriver.remote.remote_connection - DEBUG - Remote response: status=200 | data={\"value\":null} | headers=HTTPHeaderDict({'Content-Length': '14', 'Content-Type': 'application/json; charset=utf-8', 'cache-control': 'no-cache'})\n",
      "2025-04-05 20:25:18,694 - selenium.webdriver.remote.remote_connection - DEBUG - Finished Request\n"
     ]
    }
   ],
   "source": [
    "listing_type_button = driver.find_element(By.CSS_SELECTOR, 'button[value=\"SHARED\"]').click()"
   ]
  },
  {
   "cell_type": "code",
   "execution_count": 27,
   "metadata": {},
   "outputs": [
    {
     "name": "stderr",
     "output_type": "stream",
     "text": [
      "2025-04-05 20:27:30,209 - selenium.webdriver.remote.remote_connection - DEBUG - POST http://localhost:50393/session/03b7db7761d5b7fcdc8674770a9afb62/element {'using': 'css selector', 'value': '.css-1mtdczm'}\n",
      "2025-04-05 20:27:30,220 - urllib3.connectionpool - DEBUG - http://localhost:50393 \"POST /session/03b7db7761d5b7fcdc8674770a9afb62/element HTTP/1.1\" 200 0\n",
      "2025-04-05 20:27:30,221 - selenium.webdriver.remote.remote_connection - DEBUG - Remote response: status=200 | data={\"value\":{\"element-6066-11e4-a52e-4f735466cecf\":\"f.2685DFEFB6BAC4D9BA6B30F9C11CFE71.d.F207D589CD243890EBE7184899F04180.e.126\"}} | headers=HTTPHeaderDict({'Content-Length': '127', 'Content-Type': 'application/json; charset=utf-8', 'cache-control': 'no-cache'})\n",
      "2025-04-05 20:27:30,222 - selenium.webdriver.remote.remote_connection - DEBUG - Finished Request\n",
      "2025-04-05 20:27:30,223 - selenium.webdriver.remote.remote_connection - DEBUG - POST http://localhost:50393/session/03b7db7761d5b7fcdc8674770a9afb62/element/f.2685DFEFB6BAC4D9BA6B30F9C11CFE71.d.F207D589CD243890EBE7184899F04180.e.126/click {}\n",
      "2025-04-05 20:27:30,290 - urllib3.connectionpool - DEBUG - http://localhost:50393 \"POST /session/03b7db7761d5b7fcdc8674770a9afb62/element/f.2685DFEFB6BAC4D9BA6B30F9C11CFE71.d.F207D589CD243890EBE7184899F04180.e.126/click HTTP/1.1\" 200 0\n",
      "2025-04-05 20:27:30,290 - selenium.webdriver.remote.remote_connection - DEBUG - Remote response: status=200 | data={\"value\":null} | headers=HTTPHeaderDict({'Content-Length': '14', 'Content-Type': 'application/json; charset=utf-8', 'cache-control': 'no-cache'})\n",
      "2025-04-05 20:27:30,291 - selenium.webdriver.remote.remote_connection - DEBUG - Finished Request\n"
     ]
    }
   ],
   "source": [
    "price = driver.find_element(By.CLASS_NAME, 'css-1mtdczm').click()"
   ]
  },
  {
   "cell_type": "code",
   "execution_count": 28,
   "metadata": {},
   "outputs": [
    {
     "name": "stderr",
     "output_type": "stream",
     "text": [
      "2025-04-05 20:28:20,878 - selenium.webdriver.remote.remote_connection - DEBUG - POST http://localhost:50393/session/03b7db7761d5b7fcdc8674770a9afb62/elements {'using': 'css selector', 'value': '.css-1mtdczm'}\n",
      "2025-04-05 20:28:20,888 - urllib3.connectionpool - DEBUG - http://localhost:50393 \"POST /session/03b7db7761d5b7fcdc8674770a9afb62/elements HTTP/1.1\" 200 0\n",
      "2025-04-05 20:28:20,889 - selenium.webdriver.remote.remote_connection - DEBUG - Remote response: status=200 | data={\"value\":[{\"element-6066-11e4-a52e-4f735466cecf\":\"f.2685DFEFB6BAC4D9BA6B30F9C11CFE71.d.F207D589CD243890EBE7184899F04180.e.126\"},{\"element-6066-11e4-a52e-4f735466cecf\":\"f.2685DFEFB6BAC4D9BA6B30F9C11CFE71.d.F207D589CD243890EBE7184899F04180.e.128\"},{\"element-6066-11e4-a52e-4f735466cecf\":\"f.2685DFEFB6BAC4D9BA6B30F9C11CFE71.d.F207D589CD243890EBE7184899F04180.e.130\"},{\"element-6066-11e4-a52e-4f735466cecf\":\"f.2685DFEFB6BAC4D9BA6B30F9C11CFE71.d.F207D589CD243890EBE7184899F04180.e.132\"},{\"element-6066-11e4-a52e-4f735466cecf\":\"f.2685DFEFB6BAC4D9BA6B30F9C11CFE71.d.F207D589CD243890EBE7184899F04180.e.134\"},{\"element-6066-11e4-a52e-4f735466cecf\":\"f.2685DFEFB6BAC4D9BA6B30F9C11CFE71.d.F207D589CD243890EBE7184899F04180.e.136\"},{\"element-6066-11e4-a52e-4f735466cecf\":\"f.2685DFEFB6BAC4D9BA6B30F9C11CFE71.d.F207D589CD243890EBE7184899F04180.e.138\"},{\"element-6066-11e4-a52e-4f735466cecf\":\"f.2685DFEFB6BAC4D9BA6B30F9C11CFE71.d.F207D589CD243890EBE7184899F04180.e.733\"}]} | headers=HTTPHeaderDict({'Content-Length': '955', 'Content-Type': 'application/json; charset=utf-8', 'cache-control': 'no-cache'})\n",
      "2025-04-05 20:28:20,890 - selenium.webdriver.remote.remote_connection - DEBUG - Finished Request\n"
     ]
    }
   ],
   "source": [
    "elements = driver.find_elements(By.CLASS_NAME, \"css-1mtdczm\")"
   ]
  },
  {
   "cell_type": "code",
   "execution_count": 41,
   "metadata": {},
   "outputs": [
    {
     "name": "stderr",
     "output_type": "stream",
     "text": [
      "2025-04-05 20:31:03,283 - selenium.webdriver.remote.remote_connection - DEBUG - POST http://localhost:50393/session/03b7db7761d5b7fcdc8674770a9afb62/element/f.2685DFEFB6BAC4D9BA6B30F9C11CFE71.d.F207D589CD243890EBE7184899F04180.e.130/click {}\n",
      "2025-04-05 20:31:03,350 - urllib3.connectionpool - DEBUG - http://localhost:50393 \"POST /session/03b7db7761d5b7fcdc8674770a9afb62/element/f.2685DFEFB6BAC4D9BA6B30F9C11CFE71.d.F207D589CD243890EBE7184899F04180.e.130/click HTTP/1.1\" 200 0\n",
      "2025-04-05 20:31:03,351 - selenium.webdriver.remote.remote_connection - DEBUG - Remote response: status=200 | data={\"value\":null} | headers=HTTPHeaderDict({'Content-Length': '14', 'Content-Type': 'application/json; charset=utf-8', 'cache-control': 'no-cache'})\n",
      "2025-04-05 20:31:03,352 - selenium.webdriver.remote.remote_connection - DEBUG - Finished Request\n"
     ]
    }
   ],
   "source": [
    "elements[2].click()"
   ]
  },
  {
   "cell_type": "code",
   "execution_count": 42,
   "metadata": {},
   "outputs": [
    {
     "name": "stderr",
     "output_type": "stream",
     "text": [
      "2025-04-05 20:31:10,900 - selenium.webdriver.remote.remote_connection - DEBUG - POST http://localhost:50393/session/03b7db7761d5b7fcdc8674770a9afb62/element {'using': 'css selector', 'value': '.search-bar-pricing-minmax__active'}\n",
      "2025-04-05 20:31:10,910 - urllib3.connectionpool - DEBUG - http://localhost:50393 \"POST /session/03b7db7761d5b7fcdc8674770a9afb62/element HTTP/1.1\" 200 0\n",
      "2025-04-05 20:31:10,911 - selenium.webdriver.remote.remote_connection - DEBUG - Remote response: status=200 | data={\"value\":{\"element-6066-11e4-a52e-4f735466cecf\":\"f.2685DFEFB6BAC4D9BA6B30F9C11CFE71.d.F207D589CD243890EBE7184899F04180.e.11332\"}} | headers=HTTPHeaderDict({'Content-Length': '129', 'Content-Type': 'application/json; charset=utf-8', 'cache-control': 'no-cache'})\n",
      "2025-04-05 20:31:10,912 - selenium.webdriver.remote.remote_connection - DEBUG - Finished Request\n"
     ]
    }
   ],
   "source": [
    "price_field = driver.find_element(By.CLASS_NAME, \"search-bar-pricing-minmax__active\")"
   ]
  },
  {
   "cell_type": "code",
   "execution_count": 43,
   "metadata": {},
   "outputs": [
    {
     "name": "stderr",
     "output_type": "stream",
     "text": [
      "2025-04-05 20:31:14,351 - selenium.webdriver.remote.remote_connection - DEBUG - POST http://localhost:50393/session/03b7db7761d5b7fcdc8674770a9afb62/element/f.2685DFEFB6BAC4D9BA6B30F9C11CFE71.d.F207D589CD243890EBE7184899F04180.e.11332/value {'text': '720', 'value': ['7', '2', '0']}\n",
      "2025-04-05 20:31:14,403 - urllib3.connectionpool - DEBUG - http://localhost:50393 \"POST /session/03b7db7761d5b7fcdc8674770a9afb62/element/f.2685DFEFB6BAC4D9BA6B30F9C11CFE71.d.F207D589CD243890EBE7184899F04180.e.11332/value HTTP/1.1\" 200 0\n",
      "2025-04-05 20:31:14,403 - selenium.webdriver.remote.remote_connection - DEBUG - Remote response: status=200 | data={\"value\":null} | headers=HTTPHeaderDict({'Content-Length': '14', 'Content-Type': 'application/json; charset=utf-8', 'cache-control': 'no-cache'})\n",
      "2025-04-05 20:31:14,404 - selenium.webdriver.remote.remote_connection - DEBUG - Finished Request\n",
      "2025-04-05 20:31:14,404 - selenium.webdriver.remote.remote_connection - DEBUG - POST http://localhost:50393/session/03b7db7761d5b7fcdc8674770a9afb62/element/f.2685DFEFB6BAC4D9BA6B30F9C11CFE71.d.F207D589CD243890EBE7184899F04180.e.11332/value {'text': '\\ue007', 'value': ['\\ue007']}\n",
      "2025-04-05 20:31:14,441 - urllib3.connectionpool - DEBUG - http://localhost:50393 \"POST /session/03b7db7761d5b7fcdc8674770a9afb62/element/f.2685DFEFB6BAC4D9BA6B30F9C11CFE71.d.F207D589CD243890EBE7184899F04180.e.11332/value HTTP/1.1\" 200 0\n",
      "2025-04-05 20:31:14,442 - selenium.webdriver.remote.remote_connection - DEBUG - Remote response: status=200 | data={\"value\":null} | headers=HTTPHeaderDict({'Content-Length': '14', 'Content-Type': 'application/json; charset=utf-8', 'cache-control': 'no-cache'})\n",
      "2025-04-05 20:31:14,442 - selenium.webdriver.remote.remote_connection - DEBUG - Finished Request\n"
     ]
    }
   ],
   "source": [
    "price_field.send_keys(profile.max_rent)\n",
    "price_field.send_keys(Keys.ENTER)"
   ]
  },
  {
   "cell_type": "code",
   "execution_count": 49,
   "metadata": {},
   "outputs": [
    {
     "name": "stderr",
     "output_type": "stream",
     "text": [
      "2025-04-05 20:43:50,945 - selenium.webdriver.remote.remote_connection - DEBUG - POST http://localhost:50393/session/03b7db7761d5b7fcdc8674770a9afb62/elements {'using': 'xpath', 'value': '//a[@href]'}\n",
      "2025-04-05 20:43:50,959 - urllib3.connectionpool - DEBUG - http://localhost:50393 \"POST /session/03b7db7761d5b7fcdc8674770a9afb62/elements HTTP/1.1\" 200 0\n",
      "2025-04-05 20:43:50,960 - selenium.webdriver.remote.remote_connection - DEBUG - Remote response: status=200 | data={\"value\":[{\"element-6066-11e4-a52e-4f735466cecf\":\"f.2685DFEFB6BAC4D9BA6B30F9C11CFE71.d.203DB6FA0F78C050FA737DBD74344CE7.e.15066\"},{\"element-6066-11e4-a52e-4f735466cecf\":\"f.2685DFEFB6BAC4D9BA6B30F9C11CFE71.d.203DB6FA0F78C050FA737DBD74344CE7.e.15030\"},{\"element-6066-11e4-a52e-4f735466cecf\":\"f.2685DFEFB6BAC4D9BA6B30F9C11CFE71.d.203DB6FA0F78C050FA737DBD74344CE7.e.15031\"},{\"element-6066-11e4-a52e-4f735466cecf\":\"f.2685DFEFB6BAC4D9BA6B30F9C11CFE71.d.203DB6FA0F78C050FA737DBD74344CE7.e.15032\"},{\"element-6066-11e4-a52e-4f735466cecf\":\"f.2685DFEFB6BAC4D9BA6B30F9C11CFE71.d.203DB6FA0F78C050FA737DBD74344CE7.e.15033\"},{\"element-6066-11e4-a52e-4f735466cecf\":\"f.2685DFEFB6BAC4D9BA6B30F9C11CFE71.d.203DB6FA0F78C050FA737DBD74344CE7.e.18600\"},{\"element-6066-11e4-a52e-4f735466cecf\":\"f.2685DFEFB6BAC4D9BA6B30F9C11CFE71.d.203DB6FA0F78C050FA737DBD74344CE7.e.15223\"},{\"element-6066-11e4-a52e-4f735466cecf\":\"f.2685DFEFB6BAC4D9BA6B30F9C11CFE71.d.203DB6FA0F78C050FA737DBD74344CE7.e.16322\"},{\"element-6066-11e4-a52e-4f735466cecf\":\"f.2685DFEFB6BAC4D9BA6B30F9C11CFE71.d.203DB6FA0F78C050FA737DBD74344CE7.e.16323\"},{\"element-6066-11e4-a52e-4f735466cecf\":\"f.2685DFEFB6BAC4D9BA6B30F9C11CFE71.d.203DB6FA0F78C050FA737DBD74344CE7.e.16324\"},{\"element-6066-11e4-a52e-4f735466cecf\":\"f.2685DFEFB6BAC4D9BA6B30F9C11CFE71.d.203DB6FA0F78C050FA737DBD74344CE7.e.17450\"},{\"element-6066-11e4-a52e-4f735466cecf\":\"f.2685DFEFB6BAC4D9BA6B30F9C11CFE71.d.203DB6FA0F78C050FA737DBD74344CE7.e.17448\"},{\"element-6066-11e4-a52e-4f735466cecf\":\"f.2685DFEFB6BAC4D9BA6B30F9C11CFE71.d.203DB6FA0F78C050FA737DBD74344CE7.e.17509\"},{\"element-6066-11e4-a52e-4f735466cecf\":\"f.2685DFEFB6BAC4D9BA6B30F9C11CFE71.d.203DB6FA0F78C050FA737DBD74344CE7.e.17507\"},{\"element-6066-11e4-a52e-4f735466cecf\":\"f.2685DFEFB6BAC4D9BA6B30F9C11CFE71.d.203DB6FA0F78C050FA737DBD74344CE7.e.17670\"},{\"element-6066-11e4-a52e-4f735466cecf\":\"f.2685DFEFB6BAC4D9BA6B30F9C11CFE71.d.203DB6FA0F78C050FA737DBD74344CE7.e.17668\"},{\"element-6066-11e4-a52e-4f735466cecf\":\"f.2685DFEFB6BAC4D9BA6B30F9C11CFE71.d.203DB6FA0F78C050FA737DBD74344CE7.e.19174\"},{\"element-6066-11e4-a52e-4f735466cecf\":\"f.2685DFEFB6BAC4D9BA6B30F9C11CFE71.d.203DB6FA0F78C050FA737DBD74344CE7.e.19172\"},{\"element-6066-11e4-a52e-4f735466cecf\":\"f.2685DFEFB6BAC4D9BA6B30F9C11CFE71.d.203DB6FA0F78C050FA737DBD74344CE7.e.19390\"},{\"element-6066-11e4-a52e-4f735466cecf\":\"f.2685DFEFB6BAC4D9BA6B30F9C11CFE71.d.203DB6FA0F78C050FA737DBD74344CE7.e.19388\"},{\"element-6066-11e4-a52e-4f735466cecf\":\"f.2685DFEFB6BAC4D9BA6B30F9C11CFE71.d.203DB6FA0F78C050FA737DBD74344CE7.e.19432\"},{\"element-6066-11e4-a52e-4f735466cecf\":\"f.2685DFEFB6BAC4D9BA6B30F9C11CFE71.d.203DB6FA0F78C050FA737DBD74344CE7.e.19430\"},{\"element-6066-11e4-a52e-4f735466cecf\":\"f.2685DFEFB6BAC4D9BA6B30F9C11CFE71.d.203DB6FA0F78C050FA737DBD74344CE7.e.21213\"},{\"element-6066-11e4-a52e-4f735466cecf\":\"f.2685DFEFB6BAC4D9BA6B30F9C11CFE71.d.203DB6FA0F78C050FA737DBD74344CE7.e.21211\"},{\"element-6066-11e4-a52e-4f735466cecf\":\"f.2685DFEFB6BAC4D9BA6B30F9C11CFE71.d.203DB6FA0F78C050FA737DBD74344CE7.e.21252\"},{\"element-6066-11e4-a52e-4f735466cecf\":\"f.2685DFEFB6BAC4D9BA6B30F9C11CFE71.d.203DB6FA0F78C050FA737DBD74344CE7.e.21250\"},{\"element-6066-11e4-a52e-4f735466cecf\":\"f.2685DFEFB6BAC4D9BA6B30F9C11CFE71.d.203DB6FA0F78C050FA737DBD74344CE7.e.21273\"},{\"element-6066-11e4-a52e-4f735466cecf\":\"f.2685DFEFB6BAC4D9BA6B30F9C11CFE71.d.203DB6FA0F78C050FA737DBD74344CE7.e.21271\"},{\"element-6066-11e4-a52e-4f735466cecf\":\"f.2685DFEFB6BAC4D9BA6B30F9C11CFE71.d.203DB6FA0F78C050FA737DBD74344CE7.e.21313\"},{\"element-6066-11e4-a52e-4f735466cecf\":\"f.2685DFEFB6BAC4D9BA6B30F9C11CFE71.d.203DB6FA0F78C050FA737DBD74344CE7.e.21311\"},{\"element-6066-11e4-a52e-4f735466cecf\":\"f.2685DFEFB6BAC4D9BA6B30F9C11CFE71.d.203DB6FA0F78C050FA737DBD74344CE7.e.15386\"},{\"element-6066-11e4-a52e-4f735466cecf\":\"f.2685DFEFB6BAC4D9BA6B30F9C11CFE71.d.203DB6FA0F78C050FA737DBD74344CE7.e.15338\"}]} | headers=HTTPHeaderDict({'Content-Length': '3851', 'Content-Type': 'application/json; charset=utf-8', 'cache-control': 'no-cache'})\n",
      "2025-04-05 20:43:50,961 - selenium.webdriver.remote.remote_connection - DEBUG - Finished Request\n"
     ]
    }
   ],
   "source": [
    "links = driver.find_elements(By.XPATH, '//a[@href]')\n"
   ]
  },
  {
   "cell_type": "code",
   "execution_count": 54,
   "metadata": {},
   "outputs": [
    {
     "name": "stderr",
     "output_type": "stream",
     "text": [
      "2025-04-05 20:45:18,450 - selenium.webdriver.remote.remote_connection - DEBUG - POST http://localhost:50393/session/03b7db7761d5b7fcdc8674770a9afb62/execute/sync {'script': '/* getAttribute */return (function(){return (function(){var d=this||self;function f(a,b){function c(...', 'args': [{'element-6066-11e4-a52e-4f735466cecf': 'f.2685DFEFB6BAC4D9BA6B30F9C11CFE71.d.203DB6FA0F78C050FA737DBD74344CE7.e.15066'}, 'href']}\n",
      "2025-04-05 20:45:18,457 - urllib3.connectionpool - DEBUG - http://localhost:50393 \"POST /session/03b7db7761d5b7fcdc8674770a9afb62/execute/sync HTTP/1.1\" 200 0\n",
      "2025-04-05 20:45:18,458 - selenium.webdriver.remote.remote_connection - DEBUG - Remote response: status=200 | data={\"value\":\"https://flatfox.ch/en/\"} | headers=HTTPHeaderDict({'Content-Length': '34', 'Content-Type': 'application/json; charset=utf-8', 'cache-control': 'no-cache'})\n",
      "2025-04-05 20:45:18,458 - selenium.webdriver.remote.remote_connection - DEBUG - Finished Request\n",
      "2025-04-05 20:45:18,459 - selenium.webdriver.remote.remote_connection - DEBUG - POST http://localhost:50393/session/03b7db7761d5b7fcdc8674770a9afb62/execute/sync {'script': '/* getAttribute */return (function(){return (function(){var d=this||self;function f(a,b){function c(...', 'args': [{'element-6066-11e4-a52e-4f735466cecf': 'f.2685DFEFB6BAC4D9BA6B30F9C11CFE71.d.203DB6FA0F78C050FA737DBD74344CE7.e.15030'}, 'href']}\n",
      "2025-04-05 20:45:18,465 - urllib3.connectionpool - DEBUG - http://localhost:50393 \"POST /session/03b7db7761d5b7fcdc8674770a9afb62/execute/sync HTTP/1.1\" 200 0\n",
      "2025-04-05 20:45:18,466 - selenium.webdriver.remote.remote_connection - DEBUG - Remote response: status=200 | data={\"value\":\"https://flatfox.ch/en/search/\"} | headers=HTTPHeaderDict({'Content-Length': '41', 'Content-Type': 'application/json; charset=utf-8', 'cache-control': 'no-cache'})\n",
      "2025-04-05 20:45:18,466 - selenium.webdriver.remote.remote_connection - DEBUG - Finished Request\n",
      "2025-04-05 20:45:18,467 - selenium.webdriver.remote.remote_connection - DEBUG - POST http://localhost:50393/session/03b7db7761d5b7fcdc8674770a9afb62/execute/sync {'script': '/* getAttribute */return (function(){return (function(){var d=this||self;function f(a,b){function c(...', 'args': [{'element-6066-11e4-a52e-4f735466cecf': 'f.2685DFEFB6BAC4D9BA6B30F9C11CFE71.d.203DB6FA0F78C050FA737DBD74344CE7.e.15031'}, 'href']}\n",
      "2025-04-05 20:45:18,474 - urllib3.connectionpool - DEBUG - http://localhost:50393 \"POST /session/03b7db7761d5b7fcdc8674770a9afb62/execute/sync HTTP/1.1\" 200 0\n",
      "2025-04-05 20:45:18,475 - selenium.webdriver.remote.remote_connection - DEBUG - Remote response: status=200 | data={\"value\":\"https://flatfox.ch/en/my/favorite-listing/\"} | headers=HTTPHeaderDict({'Content-Length': '54', 'Content-Type': 'application/json; charset=utf-8', 'cache-control': 'no-cache'})\n",
      "2025-04-05 20:45:18,476 - selenium.webdriver.remote.remote_connection - DEBUG - Finished Request\n",
      "2025-04-05 20:45:18,476 - selenium.webdriver.remote.remote_connection - DEBUG - POST http://localhost:50393/session/03b7db7761d5b7fcdc8674770a9afb62/execute/sync {'script': '/* getAttribute */return (function(){return (function(){var d=this||self;function f(a,b){function c(...', 'args': [{'element-6066-11e4-a52e-4f735466cecf': 'f.2685DFEFB6BAC4D9BA6B30F9C11CFE71.d.203DB6FA0F78C050FA737DBD74344CE7.e.15032'}, 'href']}\n",
      "2025-04-05 20:45:18,484 - urllib3.connectionpool - DEBUG - http://localhost:50393 \"POST /session/03b7db7761d5b7fcdc8674770a9afb62/execute/sync HTTP/1.1\" 200 0\n",
      "2025-04-05 20:45:18,485 - selenium.webdriver.remote.remote_connection - DEBUG - Remote response: status=200 | data={\"value\":\"https://flatfox.ch/en/my/application/\"} | headers=HTTPHeaderDict({'Content-Length': '49', 'Content-Type': 'application/json; charset=utf-8', 'cache-control': 'no-cache'})\n",
      "2025-04-05 20:45:18,486 - selenium.webdriver.remote.remote_connection - DEBUG - Finished Request\n",
      "2025-04-05 20:45:18,486 - selenium.webdriver.remote.remote_connection - DEBUG - POST http://localhost:50393/session/03b7db7761d5b7fcdc8674770a9afb62/execute/sync {'script': '/* getAttribute */return (function(){return (function(){var d=this||self;function f(a,b){function c(...', 'args': [{'element-6066-11e4-a52e-4f735466cecf': 'f.2685DFEFB6BAC4D9BA6B30F9C11CFE71.d.203DB6FA0F78C050FA737DBD74344CE7.e.15033'}, 'href']}\n",
      "2025-04-05 20:45:18,492 - urllib3.connectionpool - DEBUG - http://localhost:50393 \"POST /session/03b7db7761d5b7fcdc8674770a9afb62/execute/sync HTTP/1.1\" 200 0\n",
      "2025-04-05 20:45:18,493 - selenium.webdriver.remote.remote_connection - DEBUG - Remote response: status=200 | data={\"value\":\"https://flatfox.ch/en/my/flat/\"} | headers=HTTPHeaderDict({'Content-Length': '42', 'Content-Type': 'application/json; charset=utf-8', 'cache-control': 'no-cache'})\n",
      "2025-04-05 20:45:18,494 - selenium.webdriver.remote.remote_connection - DEBUG - Finished Request\n",
      "2025-04-05 20:45:18,494 - selenium.webdriver.remote.remote_connection - DEBUG - POST http://localhost:50393/session/03b7db7761d5b7fcdc8674770a9afb62/execute/sync {'script': '/* getAttribute */return (function(){return (function(){var d=this||self;function f(a,b){function c(...', 'args': [{'element-6066-11e4-a52e-4f735466cecf': 'f.2685DFEFB6BAC4D9BA6B30F9C11CFE71.d.203DB6FA0F78C050FA737DBD74344CE7.e.18600'}, 'href']}\n",
      "2025-04-05 20:45:18,501 - urllib3.connectionpool - DEBUG - http://localhost:50393 \"POST /session/03b7db7761d5b7fcdc8674770a9afb62/execute/sync HTTP/1.1\" 200 0\n",
      "2025-04-05 20:45:18,502 - selenium.webdriver.remote.remote_connection - DEBUG - Remote response: status=200 | data={\"value\":\"https://www.mapbox.com/search-service\"} | headers=HTTPHeaderDict({'Content-Length': '49', 'Content-Type': 'application/json; charset=utf-8', 'cache-control': 'no-cache'})\n",
      "2025-04-05 20:45:18,503 - selenium.webdriver.remote.remote_connection - DEBUG - Finished Request\n",
      "2025-04-05 20:45:18,503 - selenium.webdriver.remote.remote_connection - DEBUG - POST http://localhost:50393/session/03b7db7761d5b7fcdc8674770a9afb62/execute/sync {'script': '/* getAttribute */return (function(){return (function(){var d=this||self;function f(a,b){function c(...', 'args': [{'element-6066-11e4-a52e-4f735466cecf': 'f.2685DFEFB6BAC4D9BA6B30F9C11CFE71.d.203DB6FA0F78C050FA737DBD74344CE7.e.15223'}, 'href']}\n",
      "2025-04-05 20:45:18,508 - urllib3.connectionpool - DEBUG - http://localhost:50393 \"POST /session/03b7db7761d5b7fcdc8674770a9afb62/execute/sync HTTP/1.1\" 200 0\n",
      "2025-04-05 20:45:18,509 - selenium.webdriver.remote.remote_connection - DEBUG - Remote response: status=200 | data={\"value\":\"https://www.mapbox.com/\"} | headers=HTTPHeaderDict({'Content-Length': '35', 'Content-Type': 'application/json; charset=utf-8', 'cache-control': 'no-cache'})\n",
      "2025-04-05 20:45:18,509 - selenium.webdriver.remote.remote_connection - DEBUG - Finished Request\n",
      "2025-04-05 20:45:18,510 - selenium.webdriver.remote.remote_connection - DEBUG - POST http://localhost:50393/session/03b7db7761d5b7fcdc8674770a9afb62/execute/sync {'script': '/* getAttribute */return (function(){return (function(){var d=this||self;function f(a,b){function c(...', 'args': [{'element-6066-11e4-a52e-4f735466cecf': 'f.2685DFEFB6BAC4D9BA6B30F9C11CFE71.d.203DB6FA0F78C050FA737DBD74344CE7.e.16322'}, 'href']}\n",
      "2025-04-05 20:45:18,514 - urllib3.connectionpool - DEBUG - http://localhost:50393 \"POST /session/03b7db7761d5b7fcdc8674770a9afb62/execute/sync HTTP/1.1\" 200 0\n",
      "2025-04-05 20:45:18,515 - selenium.webdriver.remote.remote_connection - DEBUG - Remote response: status=200 | data={\"value\":\"https://www.mapbox.com/about/maps/\"} | headers=HTTPHeaderDict({'Content-Length': '46', 'Content-Type': 'application/json; charset=utf-8', 'cache-control': 'no-cache'})\n",
      "2025-04-05 20:45:18,516 - selenium.webdriver.remote.remote_connection - DEBUG - Finished Request\n",
      "2025-04-05 20:45:18,516 - selenium.webdriver.remote.remote_connection - DEBUG - POST http://localhost:50393/session/03b7db7761d5b7fcdc8674770a9afb62/execute/sync {'script': '/* getAttribute */return (function(){return (function(){var d=this||self;function f(a,b){function c(...', 'args': [{'element-6066-11e4-a52e-4f735466cecf': 'f.2685DFEFB6BAC4D9BA6B30F9C11CFE71.d.203DB6FA0F78C050FA737DBD74344CE7.e.16323'}, 'href']}\n",
      "2025-04-05 20:45:18,522 - urllib3.connectionpool - DEBUG - http://localhost:50393 \"POST /session/03b7db7761d5b7fcdc8674770a9afb62/execute/sync HTTP/1.1\" 200 0\n",
      "2025-04-05 20:45:18,522 - selenium.webdriver.remote.remote_connection - DEBUG - Remote response: status=200 | data={\"value\":\"https://www.openstreetmap.org/copyright/\"} | headers=HTTPHeaderDict({'Content-Length': '52', 'Content-Type': 'application/json; charset=utf-8', 'cache-control': 'no-cache'})\n",
      "2025-04-05 20:45:18,523 - selenium.webdriver.remote.remote_connection - DEBUG - Finished Request\n",
      "2025-04-05 20:45:18,524 - selenium.webdriver.remote.remote_connection - DEBUG - POST http://localhost:50393/session/03b7db7761d5b7fcdc8674770a9afb62/execute/sync {'script': '/* getAttribute */return (function(){return (function(){var d=this||self;function f(a,b){function c(...', 'args': [{'element-6066-11e4-a52e-4f735466cecf': 'f.2685DFEFB6BAC4D9BA6B30F9C11CFE71.d.203DB6FA0F78C050FA737DBD74344CE7.e.16324'}, 'href']}\n",
      "2025-04-05 20:45:18,529 - urllib3.connectionpool - DEBUG - http://localhost:50393 \"POST /session/03b7db7761d5b7fcdc8674770a9afb62/execute/sync HTTP/1.1\" 200 0\n",
      "2025-04-05 20:45:18,530 - selenium.webdriver.remote.remote_connection - DEBUG - Remote response: status=200 | data={\"value\":\"https://apps.mapbox.com/feedback/?owner=mapbox&id=streets-v11&access_token=pk.eyJ1IjoiZmFiaWFuc3R1dHoiLCJhIjoiY2tldjZidHpjMGxtaDJ6bWVvZXliYWZ2YyJ9.zm58afxzwxai2WoKJaEJpw\"} | headers=HTTPHeaderDict({'Content-Length': '181', 'Content-Type': 'application/json; charset=utf-8', 'cache-control': 'no-cache'})\n",
      "2025-04-05 20:45:18,530 - selenium.webdriver.remote.remote_connection - DEBUG - Finished Request\n",
      "2025-04-05 20:45:18,531 - selenium.webdriver.remote.remote_connection - DEBUG - POST http://localhost:50393/session/03b7db7761d5b7fcdc8674770a9afb62/execute/sync {'script': '/* getAttribute */return (function(){return (function(){var d=this||self;function f(a,b){function c(...', 'args': [{'element-6066-11e4-a52e-4f735466cecf': 'f.2685DFEFB6BAC4D9BA6B30F9C11CFE71.d.203DB6FA0F78C050FA737DBD74344CE7.e.17450'}, 'href']}\n",
      "2025-04-05 20:45:18,536 - urllib3.connectionpool - DEBUG - http://localhost:50393 \"POST /session/03b7db7761d5b7fcdc8674770a9afb62/execute/sync HTTP/1.1\" 200 0\n",
      "2025-04-05 20:45:18,537 - selenium.webdriver.remote.remote_connection - DEBUG - Remote response: status=200 | data={\"value\":\"https://flatfox.ch/en/flat/bullingerstrasse-105-8004-zurich/1634963/\"} | headers=HTTPHeaderDict({'Content-Length': '80', 'Content-Type': 'application/json; charset=utf-8', 'cache-control': 'no-cache'})\n",
      "2025-04-05 20:45:18,537 - selenium.webdriver.remote.remote_connection - DEBUG - Finished Request\n",
      "2025-04-05 20:45:18,538 - selenium.webdriver.remote.remote_connection - DEBUG - POST http://localhost:50393/session/03b7db7761d5b7fcdc8674770a9afb62/execute/sync {'script': '/* getAttribute */return (function(){return (function(){var d=this||self;function f(a,b){function c(...', 'args': [{'element-6066-11e4-a52e-4f735466cecf': 'f.2685DFEFB6BAC4D9BA6B30F9C11CFE71.d.203DB6FA0F78C050FA737DBD74344CE7.e.17448'}, 'href']}\n",
      "2025-04-05 20:45:18,542 - urllib3.connectionpool - DEBUG - http://localhost:50393 \"POST /session/03b7db7761d5b7fcdc8674770a9afb62/execute/sync HTTP/1.1\" 200 0\n",
      "2025-04-05 20:45:18,543 - selenium.webdriver.remote.remote_connection - DEBUG - Remote response: status=200 | data={\"value\":\"https://flatfox.ch/en/flat/bullingerstrasse-105-8004-zurich/1634963/\"} | headers=HTTPHeaderDict({'Content-Length': '80', 'Content-Type': 'application/json; charset=utf-8', 'cache-control': 'no-cache'})\n",
      "2025-04-05 20:45:18,543 - selenium.webdriver.remote.remote_connection - DEBUG - Finished Request\n",
      "2025-04-05 20:45:18,544 - selenium.webdriver.remote.remote_connection - DEBUG - POST http://localhost:50393/session/03b7db7761d5b7fcdc8674770a9afb62/execute/sync {'script': '/* getAttribute */return (function(){return (function(){var d=this||self;function f(a,b){function c(...', 'args': [{'element-6066-11e4-a52e-4f735466cecf': 'f.2685DFEFB6BAC4D9BA6B30F9C11CFE71.d.203DB6FA0F78C050FA737DBD74344CE7.e.17509'}, 'href']}\n",
      "2025-04-05 20:45:18,548 - urllib3.connectionpool - DEBUG - http://localhost:50393 \"POST /session/03b7db7761d5b7fcdc8674770a9afb62/execute/sync HTTP/1.1\" 200 0\n",
      "2025-04-05 20:45:18,549 - selenium.webdriver.remote.remote_connection - DEBUG - Remote response: status=200 | data={\"value\":\"https://flatfox.ch/en/flat/8004-zurich/1634060/\"} | headers=HTTPHeaderDict({'Content-Length': '59', 'Content-Type': 'application/json; charset=utf-8', 'cache-control': 'no-cache'})\n",
      "2025-04-05 20:45:18,550 - selenium.webdriver.remote.remote_connection - DEBUG - Finished Request\n",
      "2025-04-05 20:45:18,550 - selenium.webdriver.remote.remote_connection - DEBUG - POST http://localhost:50393/session/03b7db7761d5b7fcdc8674770a9afb62/execute/sync {'script': '/* getAttribute */return (function(){return (function(){var d=this||self;function f(a,b){function c(...', 'args': [{'element-6066-11e4-a52e-4f735466cecf': 'f.2685DFEFB6BAC4D9BA6B30F9C11CFE71.d.203DB6FA0F78C050FA737DBD74344CE7.e.17507'}, 'href']}\n",
      "2025-04-05 20:45:18,556 - urllib3.connectionpool - DEBUG - http://localhost:50393 \"POST /session/03b7db7761d5b7fcdc8674770a9afb62/execute/sync HTTP/1.1\" 200 0\n",
      "2025-04-05 20:45:18,556 - selenium.webdriver.remote.remote_connection - DEBUG - Remote response: status=200 | data={\"value\":\"https://flatfox.ch/en/flat/8004-zurich/1634060/\"} | headers=HTTPHeaderDict({'Content-Length': '59', 'Content-Type': 'application/json; charset=utf-8', 'cache-control': 'no-cache'})\n",
      "2025-04-05 20:45:18,557 - selenium.webdriver.remote.remote_connection - DEBUG - Finished Request\n",
      "2025-04-05 20:45:18,558 - selenium.webdriver.remote.remote_connection - DEBUG - POST http://localhost:50393/session/03b7db7761d5b7fcdc8674770a9afb62/execute/sync {'script': '/* getAttribute */return (function(){return (function(){var d=this||self;function f(a,b){function c(...', 'args': [{'element-6066-11e4-a52e-4f735466cecf': 'f.2685DFEFB6BAC4D9BA6B30F9C11CFE71.d.203DB6FA0F78C050FA737DBD74344CE7.e.17670'}, 'href']}\n",
      "2025-04-05 20:45:18,562 - urllib3.connectionpool - DEBUG - http://localhost:50393 \"POST /session/03b7db7761d5b7fcdc8674770a9afb62/execute/sync HTTP/1.1\" 200 0\n",
      "2025-04-05 20:45:18,563 - selenium.webdriver.remote.remote_connection - DEBUG - Remote response: status=200 | data={\"value\":\"https://flatfox.ch/en/flat/8004-zurich/1632756/\"} | headers=HTTPHeaderDict({'Content-Length': '59', 'Content-Type': 'application/json; charset=utf-8', 'cache-control': 'no-cache'})\n",
      "2025-04-05 20:45:18,563 - selenium.webdriver.remote.remote_connection - DEBUG - Finished Request\n",
      "2025-04-05 20:45:18,564 - selenium.webdriver.remote.remote_connection - DEBUG - POST http://localhost:50393/session/03b7db7761d5b7fcdc8674770a9afb62/execute/sync {'script': '/* getAttribute */return (function(){return (function(){var d=this||self;function f(a,b){function c(...', 'args': [{'element-6066-11e4-a52e-4f735466cecf': 'f.2685DFEFB6BAC4D9BA6B30F9C11CFE71.d.203DB6FA0F78C050FA737DBD74344CE7.e.17668'}, 'href']}\n",
      "2025-04-05 20:45:18,569 - urllib3.connectionpool - DEBUG - http://localhost:50393 \"POST /session/03b7db7761d5b7fcdc8674770a9afb62/execute/sync HTTP/1.1\" 200 0\n",
      "2025-04-05 20:45:18,570 - selenium.webdriver.remote.remote_connection - DEBUG - Remote response: status=200 | data={\"value\":\"https://flatfox.ch/en/flat/8004-zurich/1632756/\"} | headers=HTTPHeaderDict({'Content-Length': '59', 'Content-Type': 'application/json; charset=utf-8', 'cache-control': 'no-cache'})\n",
      "2025-04-05 20:45:18,571 - selenium.webdriver.remote.remote_connection - DEBUG - Finished Request\n",
      "2025-04-05 20:45:18,571 - selenium.webdriver.remote.remote_connection - DEBUG - POST http://localhost:50393/session/03b7db7761d5b7fcdc8674770a9afb62/execute/sync {'script': '/* getAttribute */return (function(){return (function(){var d=this||self;function f(a,b){function c(...', 'args': [{'element-6066-11e4-a52e-4f735466cecf': 'f.2685DFEFB6BAC4D9BA6B30F9C11CFE71.d.203DB6FA0F78C050FA737DBD74344CE7.e.19174'}, 'href']}\n",
      "2025-04-05 20:45:18,577 - urllib3.connectionpool - DEBUG - http://localhost:50393 \"POST /session/03b7db7761d5b7fcdc8674770a9afb62/execute/sync HTTP/1.1\" 200 0\n",
      "2025-04-05 20:45:18,577 - selenium.webdriver.remote.remote_connection - DEBUG - Remote response: status=200 | data={\"value\":\"https://flatfox.ch/en/flat/kernstrasse-38-8004-zurich/1628337/\"} | headers=HTTPHeaderDict({'Content-Length': '74', 'Content-Type': 'application/json; charset=utf-8', 'cache-control': 'no-cache'})\n",
      "2025-04-05 20:45:18,578 - selenium.webdriver.remote.remote_connection - DEBUG - Finished Request\n",
      "2025-04-05 20:45:18,579 - selenium.webdriver.remote.remote_connection - DEBUG - POST http://localhost:50393/session/03b7db7761d5b7fcdc8674770a9afb62/execute/sync {'script': '/* getAttribute */return (function(){return (function(){var d=this||self;function f(a,b){function c(...', 'args': [{'element-6066-11e4-a52e-4f735466cecf': 'f.2685DFEFB6BAC4D9BA6B30F9C11CFE71.d.203DB6FA0F78C050FA737DBD74344CE7.e.19172'}, 'href']}\n",
      "2025-04-05 20:45:18,584 - urllib3.connectionpool - DEBUG - http://localhost:50393 \"POST /session/03b7db7761d5b7fcdc8674770a9afb62/execute/sync HTTP/1.1\" 200 0\n",
      "2025-04-05 20:45:18,585 - selenium.webdriver.remote.remote_connection - DEBUG - Remote response: status=200 | data={\"value\":\"https://flatfox.ch/en/flat/kernstrasse-38-8004-zurich/1628337/\"} | headers=HTTPHeaderDict({'Content-Length': '74', 'Content-Type': 'application/json; charset=utf-8', 'cache-control': 'no-cache'})\n",
      "2025-04-05 20:45:18,586 - selenium.webdriver.remote.remote_connection - DEBUG - Finished Request\n",
      "2025-04-05 20:45:18,586 - selenium.webdriver.remote.remote_connection - DEBUG - POST http://localhost:50393/session/03b7db7761d5b7fcdc8674770a9afb62/execute/sync {'script': '/* getAttribute */return (function(){return (function(){var d=this||self;function f(a,b){function c(...', 'args': [{'element-6066-11e4-a52e-4f735466cecf': 'f.2685DFEFB6BAC4D9BA6B30F9C11CFE71.d.203DB6FA0F78C050FA737DBD74344CE7.e.19390'}, 'href']}\n",
      "2025-04-05 20:45:18,592 - urllib3.connectionpool - DEBUG - http://localhost:50393 \"POST /session/03b7db7761d5b7fcdc8674770a9afb62/execute/sync HTTP/1.1\" 200 0\n",
      "2025-04-05 20:45:18,593 - selenium.webdriver.remote.remote_connection - DEBUG - Remote response: status=200 | data={\"value\":\"https://flatfox.ch/en/flat/brauerstrasse-126-8004-zurich/1615928/\"} | headers=HTTPHeaderDict({'Content-Length': '77', 'Content-Type': 'application/json; charset=utf-8', 'cache-control': 'no-cache'})\n",
      "2025-04-05 20:45:18,593 - selenium.webdriver.remote.remote_connection - DEBUG - Finished Request\n",
      "2025-04-05 20:45:18,594 - selenium.webdriver.remote.remote_connection - DEBUG - POST http://localhost:50393/session/03b7db7761d5b7fcdc8674770a9afb62/execute/sync {'script': '/* getAttribute */return (function(){return (function(){var d=this||self;function f(a,b){function c(...', 'args': [{'element-6066-11e4-a52e-4f735466cecf': 'f.2685DFEFB6BAC4D9BA6B30F9C11CFE71.d.203DB6FA0F78C050FA737DBD74344CE7.e.19388'}, 'href']}\n",
      "2025-04-05 20:45:18,598 - urllib3.connectionpool - DEBUG - http://localhost:50393 \"POST /session/03b7db7761d5b7fcdc8674770a9afb62/execute/sync HTTP/1.1\" 200 0\n",
      "2025-04-05 20:45:18,599 - selenium.webdriver.remote.remote_connection - DEBUG - Remote response: status=200 | data={\"value\":\"https://flatfox.ch/en/flat/brauerstrasse-126-8004-zurich/1615928/\"} | headers=HTTPHeaderDict({'Content-Length': '77', 'Content-Type': 'application/json; charset=utf-8', 'cache-control': 'no-cache'})\n",
      "2025-04-05 20:45:18,599 - selenium.webdriver.remote.remote_connection - DEBUG - Finished Request\n",
      "2025-04-05 20:45:18,600 - selenium.webdriver.remote.remote_connection - DEBUG - POST http://localhost:50393/session/03b7db7761d5b7fcdc8674770a9afb62/execute/sync {'script': '/* getAttribute */return (function(){return (function(){var d=this||self;function f(a,b){function c(...', 'args': [{'element-6066-11e4-a52e-4f735466cecf': 'f.2685DFEFB6BAC4D9BA6B30F9C11CFE71.d.203DB6FA0F78C050FA737DBD74344CE7.e.19432'}, 'href']}\n",
      "2025-04-05 20:45:18,605 - urllib3.connectionpool - DEBUG - http://localhost:50393 \"POST /session/03b7db7761d5b7fcdc8674770a9afb62/execute/sync HTTP/1.1\" 200 0\n",
      "2025-04-05 20:45:18,606 - selenium.webdriver.remote.remote_connection - DEBUG - Remote response: status=200 | data={\"value\":\"https://flatfox.ch/en/flat/hohlstrasse-185-8004-zurich/1613010/\"} | headers=HTTPHeaderDict({'Content-Length': '75', 'Content-Type': 'application/json; charset=utf-8', 'cache-control': 'no-cache'})\n",
      "2025-04-05 20:45:18,606 - selenium.webdriver.remote.remote_connection - DEBUG - Finished Request\n",
      "2025-04-05 20:45:18,607 - selenium.webdriver.remote.remote_connection - DEBUG - POST http://localhost:50393/session/03b7db7761d5b7fcdc8674770a9afb62/execute/sync {'script': '/* getAttribute */return (function(){return (function(){var d=this||self;function f(a,b){function c(...', 'args': [{'element-6066-11e4-a52e-4f735466cecf': 'f.2685DFEFB6BAC4D9BA6B30F9C11CFE71.d.203DB6FA0F78C050FA737DBD74344CE7.e.19430'}, 'href']}\n",
      "2025-04-05 20:45:18,611 - urllib3.connectionpool - DEBUG - http://localhost:50393 \"POST /session/03b7db7761d5b7fcdc8674770a9afb62/execute/sync HTTP/1.1\" 200 0\n",
      "2025-04-05 20:45:18,612 - selenium.webdriver.remote.remote_connection - DEBUG - Remote response: status=200 | data={\"value\":\"https://flatfox.ch/en/flat/hohlstrasse-185-8004-zurich/1613010/\"} | headers=HTTPHeaderDict({'Content-Length': '75', 'Content-Type': 'application/json; charset=utf-8', 'cache-control': 'no-cache'})\n",
      "2025-04-05 20:45:18,612 - selenium.webdriver.remote.remote_connection - DEBUG - Finished Request\n",
      "2025-04-05 20:45:18,613 - selenium.webdriver.remote.remote_connection - DEBUG - POST http://localhost:50393/session/03b7db7761d5b7fcdc8674770a9afb62/execute/sync {'script': '/* getAttribute */return (function(){return (function(){var d=this||self;function f(a,b){function c(...', 'args': [{'element-6066-11e4-a52e-4f735466cecf': 'f.2685DFEFB6BAC4D9BA6B30F9C11CFE71.d.203DB6FA0F78C050FA737DBD74344CE7.e.21213'}, 'href']}\n",
      "2025-04-05 20:45:18,618 - urllib3.connectionpool - DEBUG - http://localhost:50393 \"POST /session/03b7db7761d5b7fcdc8674770a9afb62/execute/sync HTTP/1.1\" 200 0\n",
      "2025-04-05 20:45:18,619 - selenium.webdriver.remote.remote_connection - DEBUG - Remote response: status=200 | data={\"value\":\"https://flatfox.ch/en/flat/asylstrasse-130-8032-zurich/1578630/\"} | headers=HTTPHeaderDict({'Content-Length': '75', 'Content-Type': 'application/json; charset=utf-8', 'cache-control': 'no-cache'})\n",
      "2025-04-05 20:45:18,619 - selenium.webdriver.remote.remote_connection - DEBUG - Finished Request\n",
      "2025-04-05 20:45:18,620 - selenium.webdriver.remote.remote_connection - DEBUG - POST http://localhost:50393/session/03b7db7761d5b7fcdc8674770a9afb62/execute/sync {'script': '/* getAttribute */return (function(){return (function(){var d=this||self;function f(a,b){function c(...', 'args': [{'element-6066-11e4-a52e-4f735466cecf': 'f.2685DFEFB6BAC4D9BA6B30F9C11CFE71.d.203DB6FA0F78C050FA737DBD74344CE7.e.21211'}, 'href']}\n",
      "2025-04-05 20:45:18,624 - urllib3.connectionpool - DEBUG - http://localhost:50393 \"POST /session/03b7db7761d5b7fcdc8674770a9afb62/execute/sync HTTP/1.1\" 200 0\n",
      "2025-04-05 20:45:18,625 - selenium.webdriver.remote.remote_connection - DEBUG - Remote response: status=200 | data={\"value\":\"https://flatfox.ch/en/flat/asylstrasse-130-8032-zurich/1578630/\"} | headers=HTTPHeaderDict({'Content-Length': '75', 'Content-Type': 'application/json; charset=utf-8', 'cache-control': 'no-cache'})\n",
      "2025-04-05 20:45:18,626 - selenium.webdriver.remote.remote_connection - DEBUG - Finished Request\n",
      "2025-04-05 20:45:18,626 - selenium.webdriver.remote.remote_connection - DEBUG - POST http://localhost:50393/session/03b7db7761d5b7fcdc8674770a9afb62/execute/sync {'script': '/* getAttribute */return (function(){return (function(){var d=this||self;function f(a,b){function c(...', 'args': [{'element-6066-11e4-a52e-4f735466cecf': 'f.2685DFEFB6BAC4D9BA6B30F9C11CFE71.d.203DB6FA0F78C050FA737DBD74344CE7.e.21252'}, 'href']}\n",
      "2025-04-05 20:45:18,631 - urllib3.connectionpool - DEBUG - http://localhost:50393 \"POST /session/03b7db7761d5b7fcdc8674770a9afb62/execute/sync HTTP/1.1\" 200 0\n",
      "2025-04-05 20:45:18,631 - selenium.webdriver.remote.remote_connection - DEBUG - Remote response: status=200 | data={\"value\":\"https://flatfox.ch/en/flat/zeltweg-8032-zurich/1561263/\"} | headers=HTTPHeaderDict({'Content-Length': '67', 'Content-Type': 'application/json; charset=utf-8', 'cache-control': 'no-cache'})\n",
      "2025-04-05 20:45:18,632 - selenium.webdriver.remote.remote_connection - DEBUG - Finished Request\n",
      "2025-04-05 20:45:18,632 - selenium.webdriver.remote.remote_connection - DEBUG - POST http://localhost:50393/session/03b7db7761d5b7fcdc8674770a9afb62/execute/sync {'script': '/* getAttribute */return (function(){return (function(){var d=this||self;function f(a,b){function c(...', 'args': [{'element-6066-11e4-a52e-4f735466cecf': 'f.2685DFEFB6BAC4D9BA6B30F9C11CFE71.d.203DB6FA0F78C050FA737DBD74344CE7.e.21250'}, 'href']}\n",
      "2025-04-05 20:45:18,638 - urllib3.connectionpool - DEBUG - http://localhost:50393 \"POST /session/03b7db7761d5b7fcdc8674770a9afb62/execute/sync HTTP/1.1\" 200 0\n",
      "2025-04-05 20:45:18,639 - selenium.webdriver.remote.remote_connection - DEBUG - Remote response: status=200 | data={\"value\":\"https://flatfox.ch/en/flat/zeltweg-8032-zurich/1561263/\"} | headers=HTTPHeaderDict({'Content-Length': '67', 'Content-Type': 'application/json; charset=utf-8', 'cache-control': 'no-cache'})\n",
      "2025-04-05 20:45:18,640 - selenium.webdriver.remote.remote_connection - DEBUG - Finished Request\n",
      "2025-04-05 20:45:18,640 - selenium.webdriver.remote.remote_connection - DEBUG - POST http://localhost:50393/session/03b7db7761d5b7fcdc8674770a9afb62/execute/sync {'script': '/* getAttribute */return (function(){return (function(){var d=this||self;function f(a,b){function c(...', 'args': [{'element-6066-11e4-a52e-4f735466cecf': 'f.2685DFEFB6BAC4D9BA6B30F9C11CFE71.d.203DB6FA0F78C050FA737DBD74344CE7.e.21273'}, 'href']}\n",
      "2025-04-05 20:45:18,645 - urllib3.connectionpool - DEBUG - http://localhost:50393 \"POST /session/03b7db7761d5b7fcdc8674770a9afb62/execute/sync HTTP/1.1\" 200 0\n",
      "2025-04-05 20:45:18,645 - selenium.webdriver.remote.remote_connection - DEBUG - Remote response: status=200 | data={\"value\":\"https://flatfox.ch/en/flat/bergstrasse-8032-zurich/1509143/\"} | headers=HTTPHeaderDict({'Content-Length': '71', 'Content-Type': 'application/json; charset=utf-8', 'cache-control': 'no-cache'})\n",
      "2025-04-05 20:45:18,646 - selenium.webdriver.remote.remote_connection - DEBUG - Finished Request\n",
      "2025-04-05 20:45:18,646 - selenium.webdriver.remote.remote_connection - DEBUG - POST http://localhost:50393/session/03b7db7761d5b7fcdc8674770a9afb62/execute/sync {'script': '/* getAttribute */return (function(){return (function(){var d=this||self;function f(a,b){function c(...', 'args': [{'element-6066-11e4-a52e-4f735466cecf': 'f.2685DFEFB6BAC4D9BA6B30F9C11CFE71.d.203DB6FA0F78C050FA737DBD74344CE7.e.21271'}, 'href']}\n",
      "2025-04-05 20:45:18,652 - urllib3.connectionpool - DEBUG - http://localhost:50393 \"POST /session/03b7db7761d5b7fcdc8674770a9afb62/execute/sync HTTP/1.1\" 200 0\n",
      "2025-04-05 20:45:18,653 - selenium.webdriver.remote.remote_connection - DEBUG - Remote response: status=200 | data={\"value\":\"https://flatfox.ch/en/flat/bergstrasse-8032-zurich/1509143/\"} | headers=HTTPHeaderDict({'Content-Length': '71', 'Content-Type': 'application/json; charset=utf-8', 'cache-control': 'no-cache'})\n",
      "2025-04-05 20:45:18,654 - selenium.webdriver.remote.remote_connection - DEBUG - Finished Request\n",
      "2025-04-05 20:45:18,654 - selenium.webdriver.remote.remote_connection - DEBUG - POST http://localhost:50393/session/03b7db7761d5b7fcdc8674770a9afb62/execute/sync {'script': '/* getAttribute */return (function(){return (function(){var d=this||self;function f(a,b){function c(...', 'args': [{'element-6066-11e4-a52e-4f735466cecf': 'f.2685DFEFB6BAC4D9BA6B30F9C11CFE71.d.203DB6FA0F78C050FA737DBD74344CE7.e.21313'}, 'href']}\n",
      "2025-04-05 20:45:18,659 - urllib3.connectionpool - DEBUG - http://localhost:50393 \"POST /session/03b7db7761d5b7fcdc8674770a9afb62/execute/sync HTTP/1.1\" 200 0\n",
      "2025-04-05 20:45:18,660 - selenium.webdriver.remote.remote_connection - DEBUG - Remote response: status=200 | data={\"value\":\"https://flatfox.ch/en/flat/brauerstrasse-126-8004-zurich/1630150/\"} | headers=HTTPHeaderDict({'Content-Length': '77', 'Content-Type': 'application/json; charset=utf-8', 'cache-control': 'no-cache'})\n",
      "2025-04-05 20:45:18,660 - selenium.webdriver.remote.remote_connection - DEBUG - Finished Request\n",
      "2025-04-05 20:45:18,661 - selenium.webdriver.remote.remote_connection - DEBUG - POST http://localhost:50393/session/03b7db7761d5b7fcdc8674770a9afb62/execute/sync {'script': '/* getAttribute */return (function(){return (function(){var d=this||self;function f(a,b){function c(...', 'args': [{'element-6066-11e4-a52e-4f735466cecf': 'f.2685DFEFB6BAC4D9BA6B30F9C11CFE71.d.203DB6FA0F78C050FA737DBD74344CE7.e.21311'}, 'href']}\n",
      "2025-04-05 20:45:18,665 - urllib3.connectionpool - DEBUG - http://localhost:50393 \"POST /session/03b7db7761d5b7fcdc8674770a9afb62/execute/sync HTTP/1.1\" 200 0\n",
      "2025-04-05 20:45:18,666 - selenium.webdriver.remote.remote_connection - DEBUG - Remote response: status=200 | data={\"value\":\"https://flatfox.ch/en/flat/brauerstrasse-126-8004-zurich/1630150/\"} | headers=HTTPHeaderDict({'Content-Length': '77', 'Content-Type': 'application/json; charset=utf-8', 'cache-control': 'no-cache'})\n",
      "2025-04-05 20:45:18,666 - selenium.webdriver.remote.remote_connection - DEBUG - Finished Request\n",
      "2025-04-05 20:45:18,667 - selenium.webdriver.remote.remote_connection - DEBUG - POST http://localhost:50393/session/03b7db7761d5b7fcdc8674770a9afb62/execute/sync {'script': '/* getAttribute */return (function(){return (function(){var d=this||self;function f(a,b){function c(...', 'args': [{'element-6066-11e4-a52e-4f735466cecf': 'f.2685DFEFB6BAC4D9BA6B30F9C11CFE71.d.203DB6FA0F78C050FA737DBD74344CE7.e.15386'}, 'href']}\n",
      "2025-04-05 20:45:18,672 - urllib3.connectionpool - DEBUG - http://localhost:50393 \"POST /session/03b7db7761d5b7fcdc8674770a9afb62/execute/sync HTTP/1.1\" 200 0\n",
      "2025-04-05 20:45:18,673 - selenium.webdriver.remote.remote_connection - DEBUG - Remote response: status=200 | data={\"value\":\"https://flatfox.ch/c/en/data-policy/\"} | headers=HTTPHeaderDict({'Content-Length': '48', 'Content-Type': 'application/json; charset=utf-8', 'cache-control': 'no-cache'})\n",
      "2025-04-05 20:45:18,673 - selenium.webdriver.remote.remote_connection - DEBUG - Finished Request\n",
      "2025-04-05 20:45:18,674 - selenium.webdriver.remote.remote_connection - DEBUG - POST http://localhost:50393/session/03b7db7761d5b7fcdc8674770a9afb62/execute/sync {'script': '/* getAttribute */return (function(){return (function(){var d=this||self;function f(a,b){function c(...', 'args': [{'element-6066-11e4-a52e-4f735466cecf': 'f.2685DFEFB6BAC4D9BA6B30F9C11CFE71.d.203DB6FA0F78C050FA737DBD74344CE7.e.15338'}, 'href']}\n",
      "2025-04-05 20:45:18,678 - urllib3.connectionpool - DEBUG - http://localhost:50393 \"POST /session/03b7db7761d5b7fcdc8674770a9afb62/execute/sync HTTP/1.1\" 200 0\n",
      "2025-04-05 20:45:18,679 - selenium.webdriver.remote.remote_connection - DEBUG - Remote response: status=200 | data={\"value\":\"https://www.onetrust.com/products/cookie-consent/\"} | headers=HTTPHeaderDict({'Content-Length': '61', 'Content-Type': 'application/json; charset=utf-8', 'cache-control': 'no-cache'})\n",
      "2025-04-05 20:45:18,679 - selenium.webdriver.remote.remote_connection - DEBUG - Finished Request\n"
     ]
    },
    {
     "data": {
      "text/plain": [
       "['https://flatfox.ch/en/flat/bullingerstrasse-105-8004-zurich/1634963/',\n",
       " 'https://flatfox.ch/en/flat/bullingerstrasse-105-8004-zurich/1634963/',\n",
       " 'https://flatfox.ch/en/flat/8004-zurich/1634060/',\n",
       " 'https://flatfox.ch/en/flat/8004-zurich/1634060/',\n",
       " 'https://flatfox.ch/en/flat/8004-zurich/1632756/',\n",
       " 'https://flatfox.ch/en/flat/8004-zurich/1632756/',\n",
       " 'https://flatfox.ch/en/flat/kernstrasse-38-8004-zurich/1628337/',\n",
       " 'https://flatfox.ch/en/flat/kernstrasse-38-8004-zurich/1628337/',\n",
       " 'https://flatfox.ch/en/flat/brauerstrasse-126-8004-zurich/1615928/',\n",
       " 'https://flatfox.ch/en/flat/brauerstrasse-126-8004-zurich/1615928/',\n",
       " 'https://flatfox.ch/en/flat/hohlstrasse-185-8004-zurich/1613010/',\n",
       " 'https://flatfox.ch/en/flat/hohlstrasse-185-8004-zurich/1613010/',\n",
       " 'https://flatfox.ch/en/flat/asylstrasse-130-8032-zurich/1578630/',\n",
       " 'https://flatfox.ch/en/flat/asylstrasse-130-8032-zurich/1578630/',\n",
       " 'https://flatfox.ch/en/flat/zeltweg-8032-zurich/1561263/',\n",
       " 'https://flatfox.ch/en/flat/zeltweg-8032-zurich/1561263/',\n",
       " 'https://flatfox.ch/en/flat/bergstrasse-8032-zurich/1509143/',\n",
       " 'https://flatfox.ch/en/flat/bergstrasse-8032-zurich/1509143/',\n",
       " 'https://flatfox.ch/en/flat/brauerstrasse-126-8004-zurich/1630150/',\n",
       " 'https://flatfox.ch/en/flat/brauerstrasse-126-8004-zurich/1630150/']"
      ]
     },
     "execution_count": 54,
     "metadata": {},
     "output_type": "execute_result"
    }
   ],
   "source": [
    "valid_links = []\n",
    "for link in links:\n",
    "    url = link.get_attribute('href')\n",
    "    if \"en/flat/\" in url:\n",
    "        valid_links.append(url)\n",
    "valid_links"
   ]
  },
  {
   "cell_type": "code",
   "execution_count": 55,
   "metadata": {},
   "outputs": [
    {
     "name": "stderr",
     "output_type": "stream",
     "text": [
      "2025-04-05 20:46:06,031 - selenium.webdriver.remote.remote_connection - DEBUG - POST http://localhost:50393/session/03b7db7761d5b7fcdc8674770a9afb62/url {'url': 'https://flatfox.ch/en/flat/bullingerstrasse-105-8004-zurich/1634963/'}\n",
      "2025-04-05 20:46:08,277 - urllib3.connectionpool - DEBUG - http://localhost:50393 \"POST /session/03b7db7761d5b7fcdc8674770a9afb62/url HTTP/1.1\" 200 0\n",
      "2025-04-05 20:46:08,277 - selenium.webdriver.remote.remote_connection - DEBUG - Remote response: status=200 | data={\"value\":null} | headers=HTTPHeaderDict({'Content-Length': '14', 'Content-Type': 'application/json; charset=utf-8', 'cache-control': 'no-cache'})\n",
      "2025-04-05 20:46:08,278 - selenium.webdriver.remote.remote_connection - DEBUG - Finished Request\n"
     ]
    }
   ],
   "source": [
    "driver.get(valid_links[0])"
   ]
  },
  {
   "cell_type": "code",
   "execution_count": 61,
   "metadata": {},
   "outputs": [
    {
     "name": "stderr",
     "output_type": "stream",
     "text": [
      "2025-04-05 20:48:15,189 - selenium.webdriver.remote.remote_connection - DEBUG - POST http://localhost:50393/session/03b7db7761d5b7fcdc8674770a9afb62/element {'using': 'css selector', 'value': '.markdown'}\n",
      "2025-04-05 20:48:15,201 - urllib3.connectionpool - DEBUG - http://localhost:50393 \"POST /session/03b7db7761d5b7fcdc8674770a9afb62/element HTTP/1.1\" 200 0\n",
      "2025-04-05 20:48:15,201 - selenium.webdriver.remote.remote_connection - DEBUG - Remote response: status=200 | data={\"value\":{\"element-6066-11e4-a52e-4f735466cecf\":\"f.2685DFEFB6BAC4D9BA6B30F9C11CFE71.d.9DCDE4269A5C64562BEE4A57CEBB18FE.e.23124\"}} | headers=HTTPHeaderDict({'Content-Length': '129', 'Content-Type': 'application/json; charset=utf-8', 'cache-control': 'no-cache'})\n",
      "2025-04-05 20:48:15,202 - selenium.webdriver.remote.remote_connection - DEBUG - Finished Request\n"
     ]
    }
   ],
   "source": [
    "content = driver.find_element(By.CLASS_NAME, \"markdown\")"
   ]
  },
  {
   "cell_type": "code",
   "execution_count": 62,
   "metadata": {},
   "outputs": [
    {
     "name": "stderr",
     "output_type": "stream",
     "text": [
      "2025-04-05 20:48:16,785 - selenium.webdriver.remote.remote_connection - DEBUG - POST http://localhost:50393/session/03b7db7761d5b7fcdc8674770a9afb62/execute/sync {'script': '/* getAttribute */return (function(){return (function(){var d=this||self;function f(a,b){function c(...', 'args': [{'element-6066-11e4-a52e-4f735466cecf': 'f.2685DFEFB6BAC4D9BA6B30F9C11CFE71.d.9DCDE4269A5C64562BEE4A57CEBB18FE.e.23124'}, 'innerHTML']}\n",
      "2025-04-05 20:48:16,797 - urllib3.connectionpool - DEBUG - http://localhost:50393 \"POST /session/03b7db7761d5b7fcdc8674770a9afb62/execute/sync HTTP/1.1\" 200 0\n",
      "2025-04-05 20:48:16,798 - selenium.webdriver.remote.remote_connection - DEBUG - Remote response: status=200 | data={\"value\":\"\\n            \\u003Cp>This room is in a 9-person JUWO apartment, which has three floors. The room is located on the second floor. The first floor has a bathroom and a large kitchen, while the second floor has two bathrooms and a small kitchen. The first floor has three people, the second floor accommodates four, and the third floor has two people. The kitchen is fully equipped with a microwave, oven, dishwasher, stove, refrigerator, and more. JUWO provides free laundry facilities. The room is furnished with a bed, wardrobe, mattress, desk, chair, monitor and desk lamp. The room is available between end of April and end of July and is preferably for individuals under the age of 28.\\u003C/p>\\n            \\n        \"} | headers=HTTPHeaderDict({'Content-Length': '734', 'Content-Type': 'application/json; charset=utf-8', 'cache-control': 'no-cache'})\n",
      "2025-04-05 20:48:16,799 - selenium.webdriver.remote.remote_connection - DEBUG - Finished Request\n"
     ]
    },
    {
     "data": {
      "text/plain": [
       "'\\n            <p>This room is in a 9-person JUWO apartment, which has three floors. The room is located on the second floor. The first floor has a bathroom and a large kitchen, while the second floor has two bathrooms and a small kitchen. The first floor has three people, the second floor accommodates four, and the third floor has two people. The kitchen is fully equipped with a microwave, oven, dishwasher, stove, refrigerator, and more. JUWO provides free laundry facilities. The room is furnished with a bed, wardrobe, mattress, desk, chair, monitor and desk lamp. The room is available between end of April and end of July and is preferably for individuals under the age of 28.</p>\\n            \\n        '"
      ]
     },
     "execution_count": 62,
     "metadata": {},
     "output_type": "execute_result"
    }
   ],
   "source": [
    "html_content = content.get_attribute('innerHTML')\n",
    "html_content"
   ]
  },
  {
   "cell_type": "code",
   "execution_count": 72,
   "metadata": {},
   "outputs": [
    {
     "name": "stderr",
     "output_type": "stream",
     "text": [
      "2025-04-05 20:52:06,238 - selenium.webdriver.remote.remote_connection - DEBUG - POST http://localhost:50393/session/03b7db7761d5b7fcdc8674770a9afb62/element {'using': 'css selector', 'value': 'table.table--rows.table--fluid.table--fixed.table--flush'}\n",
      "2025-04-05 20:52:06,248 - urllib3.connectionpool - DEBUG - http://localhost:50393 \"POST /session/03b7db7761d5b7fcdc8674770a9afb62/element HTTP/1.1\" 200 0\n",
      "2025-04-05 20:52:06,249 - selenium.webdriver.remote.remote_connection - DEBUG - Remote response: status=200 | data={\"value\":{\"element-6066-11e4-a52e-4f735466cecf\":\"f.2685DFEFB6BAC4D9BA6B30F9C11CFE71.d.9DCDE4269A5C64562BEE4A57CEBB18FE.e.23077\"}} | headers=HTTPHeaderDict({'Content-Length': '129', 'Content-Type': 'application/json; charset=utf-8', 'cache-control': 'no-cache'})\n",
      "2025-04-05 20:52:06,249 - selenium.webdriver.remote.remote_connection - DEBUG - Finished Request\n"
     ]
    }
   ],
   "source": [
    "table = driver.find_element(By.CSS_SELECTOR, 'table.table--rows.table--fluid.table--fixed.table--flush')"
   ]
  },
  {
   "cell_type": "code",
   "execution_count": 73,
   "metadata": {},
   "outputs": [
    {
     "name": "stderr",
     "output_type": "stream",
     "text": [
      "2025-04-05 20:52:10,902 - selenium.webdriver.remote.remote_connection - DEBUG - POST http://localhost:50393/session/03b7db7761d5b7fcdc8674770a9afb62/execute/sync {'script': '/* getAttribute */return (function(){return (function(){var d=this||self;function f(a,b){function c(...', 'args': [{'element-6066-11e4-a52e-4f735466cecf': 'f.2685DFEFB6BAC4D9BA6B30F9C11CFE71.d.9DCDE4269A5C64562BEE4A57CEBB18FE.e.23077'}, 'innerHTML']}\n",
      "2025-04-05 20:52:10,910 - urllib3.connectionpool - DEBUG - http://localhost:50393 \"POST /session/03b7db7761d5b7fcdc8674770a9afb62/execute/sync HTTP/1.1\" 200 0\n",
      "2025-04-05 20:52:10,911 - selenium.webdriver.remote.remote_connection - DEBUG - Remote response: status=200 | data={\"value\":\"\\n            \\u003Ccolgroup>\\n                \\u003Ccol style=\\\"width: 40%\\\">\\n                \\u003Ccol style=\\\"width: 60%\\\">\\n            \\u003C/colgroup>\\n            \\u003Ctbody>\\n                \\n                    \\u003Ctr>\\n                        \\u003Ctd>Gross rent (incl. utilities):\\u003C/td>\\n                        \\u003Ctd>\\n                            \\n                                CHF 550 per month\\u003Cbr>\\n                            \\n                        \\u003C/td>\\n                    \\u003C/tr>\\n                \\n                \\n                \\n\\n            \\u003C/tbody>\\n        \"} | headers=HTTPHeaderDict({'Content-Length': '634', 'Content-Type': 'application/json; charset=utf-8', 'cache-control': 'no-cache'})\n",
      "2025-04-05 20:52:10,912 - selenium.webdriver.remote.remote_connection - DEBUG - Finished Request\n"
     ]
    },
    {
     "data": {
      "text/plain": [
       "'\\n            <colgroup>\\n                <col style=\"width: 40%\">\\n                <col style=\"width: 60%\">\\n            </colgroup>\\n            <tbody>\\n                \\n                    <tr>\\n                        <td>Gross rent (incl. utilities):</td>\\n                        <td>\\n                            \\n                                CHF 550 per month<br>\\n                            \\n                        </td>\\n                    </tr>\\n                \\n                \\n                \\n\\n            </tbody>\\n        '"
      ]
     },
     "execution_count": 73,
     "metadata": {},
     "output_type": "execute_result"
    }
   ],
   "source": [
    "html_content = table.get_attribute('innerHTML')\n",
    "html_content"
   ]
  },
  {
   "cell_type": "code",
   "execution_count": 76,
   "metadata": {},
   "outputs": [
    {
     "name": "stderr",
     "output_type": "stream",
     "text": [
      "2025-04-05 20:53:21,509 - selenium.webdriver.remote.remote_connection - DEBUG - POST http://localhost:50393/session/03b7db7761d5b7fcdc8674770a9afb62/element {'using': 'css selector', 'value': '[id=\"id_create_subscription\"]'}\n",
      "2025-04-05 20:53:21,521 - urllib3.connectionpool - DEBUG - http://localhost:50393 \"POST /session/03b7db7761d5b7fcdc8674770a9afb62/element HTTP/1.1\" 200 0\n",
      "2025-04-05 20:53:21,522 - selenium.webdriver.remote.remote_connection - DEBUG - Remote response: status=200 | data={\"value\":{\"element-6066-11e4-a52e-4f735466cecf\":\"f.2685DFEFB6BAC4D9BA6B30F9C11CFE71.d.9DCDE4269A5C64562BEE4A57CEBB18FE.e.23152\"}} | headers=HTTPHeaderDict({'Content-Length': '129', 'Content-Type': 'application/json; charset=utf-8', 'cache-control': 'no-cache'})\n",
      "2025-04-05 20:53:21,522 - selenium.webdriver.remote.remote_connection - DEBUG - Finished Request\n"
     ]
    }
   ],
   "source": [
    "subscription_button = driver.find_element(By.ID, \"id_create_subscription\")"
   ]
  },
  {
   "cell_type": "code",
   "execution_count": 77,
   "metadata": {},
   "outputs": [
    {
     "name": "stderr",
     "output_type": "stream",
     "text": [
      "2025-04-05 20:53:27,360 - selenium.webdriver.remote.remote_connection - DEBUG - POST http://localhost:50393/session/03b7db7761d5b7fcdc8674770a9afb62/element/f.2685DFEFB6BAC4D9BA6B30F9C11CFE71.d.9DCDE4269A5C64562BEE4A57CEBB18FE.e.23152/click {}\n",
      "2025-04-05 20:53:27,429 - urllib3.connectionpool - DEBUG - http://localhost:50393 \"POST /session/03b7db7761d5b7fcdc8674770a9afb62/element/f.2685DFEFB6BAC4D9BA6B30F9C11CFE71.d.9DCDE4269A5C64562BEE4A57CEBB18FE.e.23152/click HTTP/1.1\" 200 0\n",
      "2025-04-05 20:53:27,430 - selenium.webdriver.remote.remote_connection - DEBUG - Remote response: status=200 | data={\"value\":null} | headers=HTTPHeaderDict({'Content-Length': '14', 'Content-Type': 'application/json; charset=utf-8', 'cache-control': 'no-cache'})\n",
      "2025-04-05 20:53:27,430 - selenium.webdriver.remote.remote_connection - DEBUG - Finished Request\n"
     ]
    }
   ],
   "source": [
    "subscription_button.click()"
   ]
  },
  {
   "cell_type": "code",
   "execution_count": 78,
   "metadata": {},
   "outputs": [
    {
     "name": "stderr",
     "output_type": "stream",
     "text": [
      "2025-04-05 20:53:59,280 - selenium.webdriver.remote.remote_connection - DEBUG - POST http://localhost:50393/session/03b7db7761d5b7fcdc8674770a9afb62/element {'using': 'css selector', 'value': '[id=\"id_text\"]'}\n",
      "2025-04-05 20:53:59,290 - urllib3.connectionpool - DEBUG - http://localhost:50393 \"POST /session/03b7db7761d5b7fcdc8674770a9afb62/element HTTP/1.1\" 200 0\n",
      "2025-04-05 20:53:59,290 - selenium.webdriver.remote.remote_connection - DEBUG - Remote response: status=200 | data={\"value\":{\"element-6066-11e4-a52e-4f735466cecf\":\"f.2685DFEFB6BAC4D9BA6B30F9C11CFE71.d.9DCDE4269A5C64562BEE4A57CEBB18FE.e.23149\"}} | headers=HTTPHeaderDict({'Content-Length': '129', 'Content-Type': 'application/json; charset=utf-8', 'cache-control': 'no-cache'})\n",
      "2025-04-05 20:53:59,291 - selenium.webdriver.remote.remote_connection - DEBUG - Finished Request\n"
     ]
    }
   ],
   "source": [
    "text_field = driver.find_element(By.ID, \"id_text\")"
   ]
  },
  {
   "cell_type": "code",
   "execution_count": 79,
   "metadata": {},
   "outputs": [
    {
     "name": "stderr",
     "output_type": "stream",
     "text": [
      "2025-04-05 20:54:08,034 - selenium.webdriver.remote.remote_connection - DEBUG - POST http://localhost:50393/session/03b7db7761d5b7fcdc8674770a9afb62/element/f.2685DFEFB6BAC4D9BA6B30F9C11CFE71.d.9DCDE4269A5C64562BEE4A57CEBB18FE.e.23149/value {'text': 'text', 'value': ['t', 'e', 'x', 't']}\n",
      "2025-04-05 20:54:08,084 - urllib3.connectionpool - DEBUG - http://localhost:50393 \"POST /session/03b7db7761d5b7fcdc8674770a9afb62/element/f.2685DFEFB6BAC4D9BA6B30F9C11CFE71.d.9DCDE4269A5C64562BEE4A57CEBB18FE.e.23149/value HTTP/1.1\" 200 0\n",
      "2025-04-05 20:54:08,085 - selenium.webdriver.remote.remote_connection - DEBUG - Remote response: status=200 | data={\"value\":null} | headers=HTTPHeaderDict({'Content-Length': '14', 'Content-Type': 'application/json; charset=utf-8', 'cache-control': 'no-cache'})\n",
      "2025-04-05 20:54:08,085 - selenium.webdriver.remote.remote_connection - DEBUG - Finished Request\n"
     ]
    }
   ],
   "source": [
    "text_field.send_keys(\"text\")"
   ]
  },
  {
   "cell_type": "code",
   "execution_count": 80,
   "metadata": {},
   "outputs": [
    {
     "name": "stderr",
     "output_type": "stream",
     "text": [
      "2025-04-05 20:54:55,900 - selenium.webdriver.remote.remote_connection - DEBUG - POST http://localhost:50393/session/03b7db7761d5b7fcdc8674770a9afb62/element {'using': 'css selector', 'value': '[name=\"contact-advertiser\"]'}\n",
      "2025-04-05 20:54:55,911 - urllib3.connectionpool - DEBUG - http://localhost:50393 \"POST /session/03b7db7761d5b7fcdc8674770a9afb62/element HTTP/1.1\" 200 0\n",
      "2025-04-05 20:54:55,912 - selenium.webdriver.remote.remote_connection - DEBUG - Remote response: status=200 | data={\"value\":{\"element-6066-11e4-a52e-4f735466cecf\":\"f.2685DFEFB6BAC4D9BA6B30F9C11CFE71.d.9DCDE4269A5C64562BEE4A57CEBB18FE.e.23074\"}} | headers=HTTPHeaderDict({'Content-Length': '129', 'Content-Type': 'application/json; charset=utf-8', 'cache-control': 'no-cache'})\n",
      "2025-04-05 20:54:55,913 - selenium.webdriver.remote.remote_connection - DEBUG - Finished Request\n"
     ]
    }
   ],
   "source": [
    "send_button = driver.find_element(By.NAME,\"contact-advertiser\")\n"
   ]
  },
  {
   "cell_type": "code",
   "execution_count": null,
   "metadata": {},
   "outputs": [],
   "source": [
    "# send_button.click()"
   ]
  }
 ],
 "metadata": {
  "kernelspec": {
   "display_name": "venv",
   "language": "python",
   "name": "python3"
  },
  "language_info": {
   "codemirror_mode": {
    "name": "ipython",
    "version": 3
   },
   "file_extension": ".py",
   "mimetype": "text/x-python",
   "name": "python",
   "nbconvert_exporter": "python",
   "pygments_lexer": "ipython3",
   "version": "3.10.12"
  }
 },
 "nbformat": 4,
 "nbformat_minor": 2
}
